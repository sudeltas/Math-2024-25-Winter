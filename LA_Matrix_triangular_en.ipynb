{
  "nbformat": 4,
  "nbformat_minor": 0,
  "metadata": {
    "colab": {
      "provenance": [],
      "authorship_tag": "ABX9TyMTLN+nvDhWNeh6hlFxM1V5",
      "include_colab_link": true
    },
    "kernelspec": {
      "name": "python3",
      "display_name": "Python 3"
    },
    "language_info": {
      "name": "python"
    }
  },
  "cells": [
    {
      "cell_type": "markdown",
      "metadata": {
        "id": "view-in-github",
        "colab_type": "text"
      },
      "source": [
        "<a href=\"https://colab.research.google.com/github/sudeltas/Math-2024-25-Winter/blob/main/LA_Matrix_triangular_en.ipynb\" target=\"_parent\"><img src=\"https://colab.research.google.com/assets/colab-badge.svg\" alt=\"Open In Colab\"/></a>"
      ]
    },
    {
      "cell_type": "code",
      "execution_count": null,
      "metadata": {
        "id": "Yy5HW_utJV-O"
      },
      "outputs": [],
      "source": [
        "import numpy as np\n",
        "# Example 3x3 matrix\n",
        "A = np.array([[2, 1, -1],\n",
        "              [-3, -1, 2],\n",
        "              [-2, 1, 2]])\n",
        "def triangularize(matrix):\n",
        "    # Get the number of rows\n",
        "    n = matrix.shape[0]\n",
        "\n",
        "    for i in range(n):\n",
        "        # Make the diagonal contain all non-zero entries\n",
        "        for j in range(i + 1, n):\n",
        "            if matrix[j, i] != 0:\n",
        "                factor = matrix[j, i] / matrix[i, i]\n",
        "                matrix[j] = matrix[j] - factor * matrix[i]\n",
        "\n",
        "    return matrix\n",
        "A_triangular = triangularize(A.copy())  # Use a copy to preserve original matrix\n",
        "print(\"Original Matrix A:\\n\", A)\n",
        "print(\"Upper Triangular Form of Matrix A:\\n\", A_triangular)\n",
        "\n"
      ]
    }
  ]
}