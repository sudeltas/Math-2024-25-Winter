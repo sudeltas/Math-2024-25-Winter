{
  "nbformat": 4,
  "nbformat_minor": 0,
  "metadata": {
    "colab": {
      "provenance": [],
      "authorship_tag": "ABX9TyOKpdQ5tinhQBk8DrFp/mAg",
      "include_colab_link": true
    },
    "kernelspec": {
      "name": "python3",
      "display_name": "Python 3"
    },
    "language_info": {
      "name": "python"
    }
  },
  "cells": [
    {
      "cell_type": "markdown",
      "metadata": {
        "id": "view-in-github",
        "colab_type": "text"
      },
      "source": [
        "<a href=\"https://colab.research.google.com/github/sudeltas/Math-2024-25-Winter/blob/main/LA_Vectors_products_en.ipynb\" target=\"_parent\"><img src=\"https://colab.research.google.com/assets/colab-badge.svg\" alt=\"Open In Colab\"/></a>"
      ]
    },
    {
      "cell_type": "code",
      "execution_count": null,
      "metadata": {
        "id": "G0wjVdK-1qC1"
      },
      "outputs": [],
      "source": [
        "import numpy as np\n",
        "\n",
        "# Define three vectors\n",
        "vector_1 = np.array([1, 2, 3])  # Example 3D vector\n",
        "vector_2 = np.array([4, 5, 6])  # Example 3D vector\n",
        "vector_3 = np.array([7, 8, 9])  # Example 3D vector\n",
        "\n",
        "# 1. Dot Product\n",
        "dot_product = np.dot(vector_1, vector_2)\n",
        "print(\"Dot Product (v1 . v2):\", dot_product)\n",
        "\n",
        "# 2. Cross Product (only in 3D)\n",
        "cross_product = np.cross(vector_1, vector_2)\n",
        "print(\"Cross Product (v1 x v2):\", cross_product)\n",
        "\n",
        "# 3. Scalar Triple Product (v1 . (v2 x v3))\n",
        "scalar_triple_product = np.dot(vector_1, np.cross(vector_2, vector_3))\n",
        "print(\"Scalar Triple Product (v1 . (v2 x v3)):\", scalar_triple_product)\n",
        "\n",
        "# 4. Angle Between Vectors (using Dot Product)\n",
        "cos_angle = dot_product / (np.linalg.norm(vector_1) * np.linalg.norm(vector_2))\n",
        "angle_radians = np.arccos(cos_angle)\n",
        "angle_degrees = np.degrees(angle_radians)\n",
        "print(\"Angle between v1 and v2 in degrees:\", angle_degrees)\n"
      ]
    }
  ]
}