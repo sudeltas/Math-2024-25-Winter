{
  "nbformat": 4,
  "nbformat_minor": 0,
  "metadata": {
    "colab": {
      "provenance": [],
      "authorship_tag": "ABX9TyNgWAMKXHqOYy4j0cKEKYm2",
      "include_colab_link": true
    },
    "kernelspec": {
      "name": "python3",
      "display_name": "Python 3"
    },
    "language_info": {
      "name": "python"
    }
  },
  "cells": [
    {
      "cell_type": "markdown",
      "metadata": {
        "id": "view-in-github",
        "colab_type": "text"
      },
      "source": [
        "<a href=\"https://colab.research.google.com/github/sudeltas/Math-2024-25-Winter/blob/main/LA_Vectors_projections_en.ipynb\" target=\"_parent\"><img src=\"https://colab.research.google.com/assets/colab-badge.svg\" alt=\"Open In Colab\"/></a>"
      ]
    },
    {
      "cell_type": "code",
      "execution_count": null,
      "metadata": {
        "id": "Ww4cpLycGhIr"
      },
      "outputs": [],
      "source": [
        "import numpy as np\n",
        "\n",
        "# Vektörleri tanımlayalım\n",
        "a = np.array([3, 4])  # Vektör a\n",
        "b = np.array([1, 2])  # Vektör b\n",
        "\n",
        "# 1. Nokta Çarpımı (Dot Product)\n",
        "dot_product_ab = np.dot(a, b)\n",
        "dot_product_bb = np.dot(b, b)\n",
        "\n",
        "# 2. Vektör a'nın vektör b'ye projeksiyonu\n",
        "proj_a_on_b = (dot_product_ab / dot_product_bb) * b\n",
        "\n",
        "# Sonuçları yazdıralım\n",
        "print(f\"Vektör a: {a}\")\n",
        "print(f\"Vektör b: {b}\")\n",
        "print(f\"Vektör a'nın vektör b'ye projeksiyonu: {proj_a_on_b}\")\n"
      ]
    }
  ]
}