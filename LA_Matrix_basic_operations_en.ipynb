{
  "nbformat": 4,
  "nbformat_minor": 0,
  "metadata": {
    "colab": {
      "provenance": [],
      "authorship_tag": "ABX9TyPQGW+iorp4ubVZ9m+18tk6",
      "include_colab_link": true
    },
    "kernelspec": {
      "name": "python3",
      "display_name": "Python 3"
    },
    "language_info": {
      "name": "python"
    }
  },
  "cells": [
    {
      "cell_type": "markdown",
      "metadata": {
        "id": "view-in-github",
        "colab_type": "text"
      },
      "source": [
        "<a href=\"https://colab.research.google.com/github/sudeltas/Math-2024-25-Winter/blob/main/LA_Matrix_basic_operations_en.ipynb\" target=\"_parent\"><img src=\"https://colab.research.google.com/assets/colab-badge.svg\" alt=\"Open In Colab\"/></a>"
      ]
    },
    {
      "cell_type": "code",
      "execution_count": 1,
      "metadata": {
        "colab": {
          "base_uri": "https://localhost:8080/"
        },
        "id": "p8I6eStPI3BF",
        "outputId": "17b8ff80-94e0-48c3-f913-263f94d4590e"
      },
      "outputs": [
        {
          "output_type": "stream",
          "name": "stdout",
          "text": [
            "A + B:\n",
            " [[10 10 10]\n",
            " [10 10 10]\n",
            " [10 10 10]]\n",
            "\n",
            "A - B:\n",
            " [[-8 -6 -4]\n",
            " [-2  0  2]\n",
            " [ 4  6  8]]\n",
            "\n",
            "A * B:\n",
            " [[ 30  24  18]\n",
            " [ 84  69  54]\n",
            " [138 114  90]]\n",
            "\n",
            "A Transpose:\n",
            " [[1 4 7]\n",
            " [2 5 8]\n",
            " [3 6 9]]\n",
            "\n",
            "Determinant of A: 0.0\n",
            "\n",
            "A matrix is not invertible.\n",
            "\n",
            "Eigenvalues of A: [ 1.61168440e+01 -1.11684397e+00 -1.30367773e-15]\n",
            "Eigenvectors of A:\n",
            " [[-0.23197069 -0.78583024  0.40824829]\n",
            " [-0.52532209 -0.08675134 -0.81649658]\n",
            " [-0.8186735   0.61232756  0.40824829]]\n"
          ]
        }
      ],
      "source": [
        "import numpy as np\n",
        "\n",
        "# Define matrices\n",
        "A = np.array([[1, 2, 3],\n",
        "              [4, 5, 6],\n",
        "              [7, 8, 9]])\n",
        "\n",
        "B = np.array([[9, 8, 7],\n",
        "              [6, 5, 4],\n",
        "              [3, 2, 1]])\n",
        "\n",
        "# 1. Matrix Addition\n",
        "C = A + B\n",
        "print(\"A + B:\\n\", C)\n",
        "\n",
        "# 2. Matrix Subtraction\n",
        "D = A - B\n",
        "print(\"\\nA - B:\\n\", D)\n",
        "\n",
        "# 3. Matrix Multiplication\n",
        "E = np.dot(A, B)\n",
        "print(\"\\nA * B:\\n\", E)\n",
        "\n",
        "# 4. Transpose\n",
        "F = A.T\n",
        "print(\"\\nA Transpose:\\n\", F)\n",
        "\n",
        "# 5. Determinant Calculation\n",
        "det_A = np.linalg.det(A)\n",
        "print(\"\\nDeterminant of A:\", det_A)\n",
        "\n",
        "# 6. Inverse Calculation\n",
        "try:\n",
        "    inv_A = np.linalg.inv(A)\n",
        "    print(\"\\nInverse of A:\\n\", inv_A)\n",
        "except np.linalg.LinAlgError:\n",
        "    print(\"\\nA matrix is not invertible.\")\n",
        "\n",
        "# 7. Eigenvalues and Eigenvectors\n",
        "eigenvalues, eigenvectors = np.linalg.eig(A)\n",
        "print(\"\\nEigenvalues of A:\", eigenvalues)\n",
        "print(\"Eigenvectors of A:\\n\", eigenvectors)\n"
      ]
    }
  ]
}