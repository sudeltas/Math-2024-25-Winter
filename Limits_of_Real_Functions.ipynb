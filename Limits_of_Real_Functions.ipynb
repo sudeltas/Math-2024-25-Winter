{
  "nbformat": 4,
  "nbformat_minor": 0,
  "metadata": {
    "colab": {
      "provenance": [],
      "authorship_tag": "ABX9TyNNpcATB0qRrpMD9K/jNK6j",
      "include_colab_link": true
    },
    "kernelspec": {
      "name": "python3",
      "display_name": "Python 3"
    },
    "language_info": {
      "name": "python"
    }
  },
  "cells": [
    {
      "cell_type": "markdown",
      "metadata": {
        "id": "view-in-github",
        "colab_type": "text"
      },
      "source": [
        "<a href=\"https://colab.research.google.com/github/sudeltas/Math-2024-25-Winter/blob/main/Limits_of_Real_Functions.ipynb\" target=\"_parent\"><img src=\"https://colab.research.google.com/assets/colab-badge.svg\" alt=\"Open In Colab\"/></a>"
      ]
    },
    {
      "cell_type": "code",
      "execution_count": null,
      "metadata": {
        "id": "X76gsZoh4aPS"
      },
      "outputs": [],
      "source": [
        "pip install sympy\n",
        "\n",
        "import sympy as sp\n",
        "f_x = 1 / x\n",
        "limit_at_0 = sp.limit(f_x, x, 0)\n",
        "limit_at_infinity = sp.limit(f_x, x, sp.oo)\n",
        "\n",
        "print(f\"Limit of the function as x approaches 0: {limit_at_0}\")\n",
        "print(f\"Limit of the function as x approaches infinity: {limit_at_infinity}\")\n"
      ]
    }
  ]
}