{
  "nbformat": 4,
  "nbformat_minor": 0,
  "metadata": {
    "colab": {
      "provenance": [],
      "authorship_tag": "ABX9TyOgcnzBFj2yMhmixpxy1XAI",
      "include_colab_link": true
    },
    "kernelspec": {
      "name": "python3",
      "display_name": "Python 3"
    },
    "language_info": {
      "name": "python"
    }
  },
  "cells": [
    {
      "cell_type": "markdown",
      "metadata": {
        "id": "view-in-github",
        "colab_type": "text"
      },
      "source": [
        "<a href=\"https://colab.research.google.com/github/sudeltas/Math-2024-25-Winter/blob/main/LA_Matrix_determinants_2x2_3x3_en.ipynb\" target=\"_parent\"><img src=\"https://colab.research.google.com/assets/colab-badge.svg\" alt=\"Open In Colab\"/></a>"
      ]
    },
    {
      "cell_type": "code",
      "execution_count": null,
      "metadata": {
        "id": "ZJAFWitHKg_4"
      },
      "outputs": [],
      "source": [
        "import numpy as np\n",
        "\n",
        "def determinant(matrix):\n",
        "    n = matrix.shape[0]\n",
        "\n",
        "    # Base case for 2x2 matrix\n",
        "    if n == 2:\n",
        "        return matrix[0, 0] * matrix[1, 1] - matrix[0, 1] * matrix[1, 0]\n",
        "\n",
        "    det = 0\n",
        "    for c in range(n):\n",
        "        # Laplace expansion: creating the sub-matrix\n",
        "        sub_matrix = np.delete(np.delete(matrix, 0, axis=0), c, axis=1)\n",
        "        # Recursively calculating the determinant\n",
        "        det += ((-1) ** c) * matrix[0, c] * determinant(sub_matrix)\n",
        "\n",
        "    return det\n",
        "\n",
        "# Example matrix\n",
        "A = np.array([[1, 2, 3],\n",
        "              [4, 5, 6],\n",
        "              [7, 8, 9]])\n",
        "\n",
        "# Calculate determinant\n",
        "det_A = determinant(A)\n",
        "print(\"Determinant of A:\", det_A)\n"
      ]
    }
  ]
}