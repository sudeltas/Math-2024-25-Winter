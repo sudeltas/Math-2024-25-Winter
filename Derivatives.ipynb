{
  "nbformat": 4,
  "nbformat_minor": 0,
  "metadata": {
    "colab": {
      "provenance": [],
      "authorship_tag": "ABX9TyMVXD89ZtdGoUcA8oST9Qx1",
      "include_colab_link": true
    },
    "kernelspec": {
      "name": "python3",
      "display_name": "Python 3"
    },
    "language_info": {
      "name": "python"
    }
  },
  "cells": [
    {
      "cell_type": "markdown",
      "metadata": {
        "id": "view-in-github",
        "colab_type": "text"
      },
      "source": [
        "<a href=\"https://colab.research.google.com/github/sudeltas/Math-2024-25-Winter/blob/main/Derivatives.ipynb\" target=\"_parent\"><img src=\"https://colab.research.google.com/assets/colab-badge.svg\" alt=\"Open In Colab\"/></a>"
      ]
    },
    {
      "cell_type": "code",
      "execution_count": 1,
      "metadata": {
        "id": "KHHZdGy-52Jp"
      },
      "outputs": [],
      "source": [
        "import sympy as sp\n",
        "\n",
        "# Define the variable\n",
        "x = sp.symbols('x')\n",
        "\n",
        "# Define the function (e.g., f(x) = x^2 + 3x + 2)\n",
        "f_x = x**2 + 3*x + 2\n",
        "\n",
        "# Compute the first derivative (f'(x))\n",
        "first_derivative = sp.diff(f_x, x)\n",
        "\n",
        "# Compute the second derivative (f''(x))\n",
        "second_derivative = sp.diff(f_x, x, 2)\n",
        "\n"
      ]
    }
  ]
}