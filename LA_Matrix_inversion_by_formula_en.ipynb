{
  "nbformat": 4,
  "nbformat_minor": 0,
  "metadata": {
    "colab": {
      "provenance": [],
      "authorship_tag": "ABX9TyN9SmWyTJlXs8v9u46U/ERc",
      "include_colab_link": true
    },
    "kernelspec": {
      "name": "python3",
      "display_name": "Python 3"
    },
    "language_info": {
      "name": "python"
    }
  },
  "cells": [
    {
      "cell_type": "markdown",
      "metadata": {
        "id": "view-in-github",
        "colab_type": "text"
      },
      "source": [
        "<a href=\"https://colab.research.google.com/github/sudeltas/Math-2024-25-Winter/blob/main/LA_Matrix_inversion_by_formula_en.ipynb\" target=\"_parent\"><img src=\"https://colab.research.google.com/assets/colab-badge.svg\" alt=\"Open In Colab\"/></a>"
      ]
    },
    {
      "cell_type": "code",
      "execution_count": null,
      "metadata": {
        "id": "cpMv9A2LKuja"
      },
      "outputs": [],
      "source": [
        "import numpy as np\n",
        "\n",
        "def matrix_inverse(matrix):\n",
        "    n = matrix.shape[0]\n",
        "\n",
        "    # Check if the matrix is square\n",
        "    if n != matrix.shape[1]:\n",
        "        raise ValueError(\"Matrix must be square.\")\n",
        "\n",
        "    # Calculate the determinant\n",
        "    det = np.linalg.det(matrix)\n",
        "    if det == 0:\n",
        "        raise ValueError(\"Matrix is singular and cannot be inverted.\")\n",
        "\n",
        "    # If the matrix is 2x2\n",
        "    if n == 2:\n",
        "        return (1 / det) * np.array([[matrix[1, 1], -matrix[0, 1]],\n",
        "                                      [-matrix[1, 0], matrix[0, 0]]])\n",
        "\n",
        "    # For larger matrices, use the adjugate method\n",
        "    adjugate = np.zeros_like(matrix, dtype=float)\n",
        "\n",
        "    for i in range(n):\n",
        "        for j in range(n):\n",
        "            # Create the sub-matrix for cofactor calculation\n",
        "            sub_matrix = np.delete(np.delete(matrix, i, axis=0), j, axis=1)\n",
        "            # Calculate the cofactor\n",
        "            cofactor = ((-1) ** (i + j)) * np.linalg.det(sub_matrix)\n",
        "            adjugate[j, i] =\n"
      ]
    }
  ]
}