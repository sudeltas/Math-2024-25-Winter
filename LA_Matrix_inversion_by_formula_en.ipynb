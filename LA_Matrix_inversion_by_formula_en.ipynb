{
  "nbformat": 4,
  "nbformat_minor": 0,
  "metadata": {
    "colab": {
      "provenance": [],
      "authorship_tag": "ABX9TyNJJ3kcOcGTiGpcnqSjEGw5",
      "include_colab_link": true
    },
    "kernelspec": {
      "name": "python3",
      "display_name": "Python 3"
    },
    "language_info": {
      "name": "python"
    }
  },
  "cells": [
    {
      "cell_type": "markdown",
      "metadata": {
        "id": "view-in-github",
        "colab_type": "text"
      },
      "source": [
        "<a href=\"https://colab.research.google.com/github/sudeltas/Math-2024-25-Winter/blob/main/LA_Matrix_inversion_by_formula_en.ipynb\" target=\"_parent\"><img src=\"https://colab.research.google.com/assets/colab-badge.svg\" alt=\"Open In Colab\"/></a>"
      ]
    },
    {
      "cell_type": "code",
      "execution_count": null,
      "metadata": {
        "id": "cpMv9A2LKuja"
      },
      "outputs": [],
      "source": [
        "import numpy as np\n",
        "\n",
        "def invert_2x2(matrix):\n",
        "    if matrix.shape != (2, 2):\n",
        "        raise ValueError(\"Input must be a 2x2 matrix.\")\n",
        "\n",
        "    a, b = matrix[0]\n",
        "    c, d = matrix[1]\n",
        "\n",
        "    determinant = a * d - b * c\n",
        "    if determinant == 0:\n",
        "        raise ValueError(\"Matrix is not invertible.\")\n",
        "\n",
        "    inverse = (1 / determinant) * np.array([[d, -b], [-c, a]])\n",
        "    return inverse\n",
        "\n",
        "def invert_3x3(matrix):\n",
        "    if matrix.shape != (3, 3):\n",
        "        raise ValueError(\"Input must be a 3x3 matrix.\")\n",
        "\n",
        "    determinant = (matrix[0, 0] * (matrix[1, 1] * matrix[2, 2] - matrix[1, 2] * matrix[2, 1]) -\n",
        "                   matrix[0, 1] * (matrix[1, 0] * matrix[2, 2] - matrix[1, 2] * matrix[2, 0]) +\n",
        "                   matrix[0, 2] * (matrix[1, 0] * matrix[2, 1] - matrix[1, 1] * matrix[2, 0]))\n",
        "\n",
        "    if determinant == 0:\n",
        "        raise ValueError(\"Matrix is not invertible.\")\n",
        "\n",
        "    # Calculate the adjugate matrix\n",
        "    adjugate = np.array([[ matrix[1, 1] * matrix[2, 2] - matrix[1, 2] * matrix[2, 1],\n",
        "                          -(matrix[1, 0] * matrix[2, 2] - matrix[1, 2] * matrix[2, 0]),\n",
        "                           matrix[1, 0] * matrix[2, 1] - matrix[1, 1] * matrix[2, 0]],\n",
        "\n",
        "                         [-(matrix[0, 1] * matrix[2, 2] - matrix[0, 2] * matrix[2, 1]),\n",
        "                          matrix[0, 0] * matrix[2, 2] - matrix[0, 2] * matrix[2, 0],\n",
        "                         -(matrix[0, 0] * matrix[2, 1] - matrix[0, 1] * matrix[2, 0])],\n",
        "\n",
        "                         [ matrix[0, 1] * matrix[1, 2] - matrix[0, 2] * matrix[1, 1],\n",
        "                         -(matrix[0, 0] * matrix[1, 2] - matrix[0, 2] * matrix[1, 0]),\n",
        "                          matrix[0, 0] * matrix[1, 1] - matrix[0, 1] * matrix[1, 0]]])\n",
        "\n",
        "    inverse = (1 / determinant) * adjugate\n",
        "    return inverse\n",
        "\n",
        "# Example Usage:\n",
        "matrix_2x2 = np.array([[4, 7], [2, 6]])\n",
        "inverse_2x2 = invert_2x2(matrix_2x2)\n",
        "print(\"Inverse of 2x2 Matrix:\\n\", inverse_2x2)\n",
        "\n",
        "matrix_3x3 = np.array([[1, 2, 3], [0, 1, 4], [5, 6, 0]])\n",
        "inverse_3x3 = invert_3x3(matrix_3x3)\n",
        "print(\"Inverse of 3x3 Matrix:\\n\", inverse_3x3)\n"
      ]
    }
  ]
}