{
  "nbformat": 4,
  "nbformat_minor": 0,
  "metadata": {
    "colab": {
      "provenance": [],
      "authorship_tag": "ABX9TyNMbrrWjeu9Pk7FmQR26mhQ",
      "include_colab_link": true
    },
    "kernelspec": {
      "name": "python3",
      "display_name": "Python 3"
    },
    "language_info": {
      "name": "python"
    }
  },
  "cells": [
    {
      "cell_type": "markdown",
      "metadata": {
        "id": "view-in-github",
        "colab_type": "text"
      },
      "source": [
        "<a href=\"https://colab.research.google.com/github/sudeltas/Math-2024-25-Winter/blob/main/_Limits_of_Sequences.ipynb\" target=\"_parent\"><img src=\"https://colab.research.google.com/assets/colab-badge.svg\" alt=\"Open In Colab\"/></a>"
      ]
    },
    {
      "cell_type": "code",
      "execution_count": null,
      "metadata": {
        "id": "4OXUkO7k2XGt"
      },
      "outputs": [],
      "source": [
        "pip install sympy\n",
        "\n",
        "import sympy as sp\n",
        "\n",
        "# Define the variable\n",
        "n = sp.symbols('n')\n",
        "\n",
        "# Define the sequence (e.g., a_n = 1/n)\n",
        "sequence = 1 / n\n",
        "\n",
        "# Compute the limit of the sequence as n approaches infinity\n",
        "limit = sp.limit(sequence, n, sp.oo)\n",
        "\n",
        "# Display the result\n",
        "print(f\"The limit of the sequence is: {limit}\")\n"
      ]
    }
  ]
}