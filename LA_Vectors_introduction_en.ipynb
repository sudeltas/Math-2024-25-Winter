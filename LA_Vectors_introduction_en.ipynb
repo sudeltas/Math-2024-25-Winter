{
  "nbformat": 4,
  "nbformat_minor": 0,
  "metadata": {
    "colab": {
      "provenance": [],
      "authorship_tag": "ABX9TyMn86BVwRCHcS742p6EmCT6",
      "include_colab_link": true
    },
    "kernelspec": {
      "name": "python3",
      "display_name": "Python 3"
    },
    "language_info": {
      "name": "python"
    }
  },
  "cells": [
    {
      "cell_type": "markdown",
      "metadata": {
        "id": "view-in-github",
        "colab_type": "text"
      },
      "source": [
        "<a href=\"https://colab.research.google.com/github/sudeltas/Math-2024-25-Winter/blob/main/LA_Vectors_introduction_en.ipynb\" target=\"_parent\"><img src=\"https://colab.research.google.com/assets/colab-badge.svg\" alt=\"Open In Colab\"/></a>"
      ]
    },
    {
      "cell_type": "code",
      "execution_count": 1,
      "metadata": {
        "colab": {
          "base_uri": "https://localhost:8080/"
        },
        "id": "ZGjc1IJM1ILO",
        "outputId": "203c45f6-ac5d-4d4a-970a-ef5da7a49911"
      },
      "outputs": [
        {
          "output_type": "stream",
          "name": "stdout",
          "text": [
            "Vector Addition (v1 + v2): [5 7 9]\n",
            "Scalar Multiplication (3 * v1): [3 6 9]\n",
            "Dot Product (v1 . v2): 32\n",
            "Cross Product (v1 x v2): [-3  6 -3]\n",
            "Magnitude (Norm) of v1: 3.7416573867739413\n",
            "Are v1 and v2 linearly dependent? False\n"
          ]
        }
      ],
      "source": [
        "import numpy as np\n",
        "\n",
        "# Define two vectors\n",
        "vector_1 = np.array([1, 2, 3])  # Example 3D vector\n",
        "vector_2 = np.array([4, 5, 6])  # Example 3D vector\n",
        "\n",
        "# 1. Vector Addition\n",
        "vector_addition = vector_1 + vector_2\n",
        "print(\"Vector Addition (v1 + v2):\", vector_addition)\n",
        "\n",
        "# 2. Scalar Multiplication\n",
        "scalar = 3\n",
        "scalar_multiplication = scalar * vector_1\n",
        "print(f\"Scalar Multiplication (3 * v1):\", scalar_multiplication)\n",
        "\n",
        "# 3. Dot Product\n",
        "dot_product = np.dot(vector_1, vector_2)\n",
        "print(\"Dot Product (v1 . v2):\", dot_product)\n",
        "\n",
        "# 4. Cross Product (only in 3D)\n",
        "cross_product = np.cross(vector_1, vector_2)\n",
        "print(\"Cross Product (v1 x v2):\", cross_product)\n",
        "\n",
        "# 5. Magnitude (Norm) of a Vector\n",
        "magnitude_v1 = np.linalg.norm(vector_1)\n",
        "print(\"Magnitude (Norm) of v1:\", magnitude_v1)\n",
        "\n",
        "# 6. Checking if vectors are linearly dependent or independent\n",
        "# Two vectors are linearly dependent if one is a scalar multiple of the other\n",
        "is_dependent = np.allclose(vector_1 / vector_1[0], vector_2 / vector_2[0])\n",
        "print(\"Are v1 and v2 linearly dependent?\", is_dependent)\n"
      ]
    }
  ]
}