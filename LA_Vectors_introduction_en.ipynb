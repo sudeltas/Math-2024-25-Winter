{
  "nbformat": 4,
  "nbformat_minor": 0,
  "metadata": {
    "colab": {
      "provenance": [],
      "authorship_tag": "ABX9TyP8yVQqs5kDindrlVeqBTkA",
      "include_colab_link": true
    },
    "kernelspec": {
      "name": "python3",
      "display_name": "Python 3"
    },
    "language_info": {
      "name": "python"
    }
  },
  "cells": [
    {
      "cell_type": "markdown",
      "metadata": {
        "id": "view-in-github",
        "colab_type": "text"
      },
      "source": [
        "<a href=\"https://colab.research.google.com/github/sudeltas/Math-2024-25-Winter/blob/main/LA_Vectors_introduction_en.ipynb\" target=\"_parent\"><img src=\"https://colab.research.google.com/assets/colab-badge.svg\" alt=\"Open In Colab\"/></a>"
      ]
    },
    {
      "cell_type": "code",
      "execution_count": null,
      "metadata": {
        "id": "OVnYrSl-7_Gn"
      },
      "outputs": [],
      "source": [
        "import numpy as np\n",
        "\n",
        "# Vektörleri tanımlayalım\n",
        "v1 = np.array([1, 2, 3])  # 3 boyutlu vektör\n",
        "v2 = np.array([4, 5, 6])  # 3 boyutlu vektör\n",
        "\n",
        "# 1. Vektör Toplamı\n",
        "v_toplam = v1 + v2\n",
        "print(f\"Vektörlerin Toplamı: {v_toplam}\")\n",
        "\n",
        "# 2. Vektör Çıkarma\n",
        "v_cikarma = v1 - v2\n",
        "print(f\"Vektörlerin Farkı: {v_cikarma}\")\n",
        "\n",
        "# 3. Skaler Çarpan ile Çarpma\n",
        "skaler = 3\n",
        "v_skalar_carpan = skaler * v1\n",
        "print(f\"Vektörün Skaler Çarpanı: {v_skalar_carpan}\")\n",
        "\n",
        "# 4. Nokta Çarpımı (Dot Product)\n",
        "nokta_carpimi = np.dot(v1, v2)\n",
        "print(f\"Nokta Çarpımı: {nokta_carpimi}\")\n",
        "\n",
        "# 5. Vektörün Uzunluğu (Büyüklüğü)\n",
        "v1_boyut = np.linalg.norm(v1)\n",
        "print(f\"Vektörün Büyüklüğü: {v1_boyut}\")\n",
        "\n",
        "# 6. Vektörler Arası Açıyı Hesaplama (Cosine Similarity)\n",
        "cosine_similarity = np.dot(v1, v2) / (np.linalg.norm(v1) * np.linalg.norm(v2))\n",
        "print(f\"Vektörler Arası Cosine Benzerliği: {cosine_similarity}\")\n"
      ]
    }
  ]
}