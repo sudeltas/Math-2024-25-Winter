{
  "nbformat": 4,
  "nbformat_minor": 0,
  "metadata": {
    "colab": {
      "provenance": [],
      "authorship_tag": "ABX9TyOSIW6NKoUTRpQGeH+scvYL",
      "include_colab_link": true
    },
    "kernelspec": {
      "name": "python3",
      "display_name": "Python 3"
    },
    "language_info": {
      "name": "python"
    }
  },
  "cells": [
    {
      "cell_type": "markdown",
      "metadata": {
        "id": "view-in-github",
        "colab_type": "text"
      },
      "source": [
        "<a href=\"https://colab.research.google.com/github/sudeltas/Math-2024-25-Winter/blob/main/LA_SoLE_inverse_matrix_en.ipynb\" target=\"_parent\"><img src=\"https://colab.research.google.com/assets/colab-badge.svg\" alt=\"Open In Colab\"/></a>"
      ]
    },
    {
      "cell_type": "code",
      "execution_count": null,
      "metadata": {
        "id": "4bwflSuELq5r"
      },
      "outputs": [],
      "source": [
        "import numpy as np\n",
        "\n",
        "def solve_using_inverse(A, b):\n",
        "    # Check if A is square and invertible\n",
        "    if A.shape[0] != A.shape[1]:\n",
        "        raise ValueError(\"Coefficient matrix A must be square.\")\n",
        "\n",
        "    determinant = np.linalg.det(A)\n",
        "    if determinant == 0:\n",
        "        raise ValueError(\"Matrix A is not invertible.\")\n",
        "\n",
        "    # Calculate the inverse of A\n",
        "    A_inv = np.linalg.inv(A)\n",
        "\n",
        "    # Solve for x using A_inv * b\n",
        "    x = np.dot(A_inv, b)\n",
        "\n",
        "    return x\n",
        "\n",
        "# Example Usage:\n",
        "A = np.array([[3, 2, -4], [2, 3, 3], [5, -3, 1]], dtype=float)\n",
        "b = np.array([3, 15, 14], dtype=float)\n",
        "\n",
        "solution = solve_using_inverse(A, b)\n",
        "print(\"Solution of the system of equations using the inverse matrix:\\n\", solution)\n"
      ]
    }
  ]
}