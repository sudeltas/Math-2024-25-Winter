{
  "cells": [
    {
      "cell_type": "markdown",
      "source": [
        "## Limits of Real Functions\n",
        "\n",
        "1. Compute:\n",
        "   - $\\displaystyle\\lim_{x \\to \\infty} \\frac{x^3 + 2x^2}{x^4 - 3x^3}$\n",
        "\n",
        "2. Find:\n",
        "   \n",
        "   - $\\displaystyle \\lim_{x \\to 0} \\frac{\\sin(3x)}{2x+1}$.\n",
        "\n",
        "4. Find the asymptotes of the function:\n",
        "  \n",
        "   - $f(x) = \\frac{x^2 - 1}{x^2 + 1}$\n",
        "   - $g(x) = \\frac{\\sin(x)}{x^2+1}$\n"
      ],
      "metadata": {
        "id": "WM1k4H1mhZx1"
      },
      "id": "WM1k4H1mhZx1"
    },
    {
      "cell_type": "markdown",
      "source": [
        "### Problem:\n",
        "\n",
        "Compute the limit:\n",
        "\n",
        "$\\lim_{x \\to \\infty} \\frac{x^3 + 2x^2}{x^4 - 3x^3}$\n",
        "\n",
        "### Solution:\n",
        "\n",
        "To compute this limit, divide both the numerator and denominator by $x^4$ (the highest power of $x$ in the denominator):\n",
        "\n",
        "$\\lim_{x \\to \\infty} \\frac{x^3 + 2x^2}{x^4 - 3x^3} = \\lim_{x \\to \\infty} \\frac{\\frac{x^3}{x^4} + \\frac{2x^2}{x^4}}{\\frac{x^4}{x^4} - \\frac{3x^3}{x^4}}$\n",
        "\n",
        "This simplifies to:\n",
        "\n",
        "$\\lim_{x \\to \\infty} \\frac{\\frac{1}{x} + \\frac{2}{x^2}}{1 - \\frac{3}{x}}$\n",
        "\n",
        "As $x \\to \\infty$, the terms $\\frac{1}{x}$, $\\frac{2}{x^2}$, and $\\frac{3}{x}$ all approach 0.\n",
        "\n",
        "Thus, the limit is:\n",
        "\n",
        "$\\frac{0 + 0}{1 - 0} = 0$\n",
        "\n",
        "### Final Answer:\n",
        "\n",
        "$\\lim_{x \\to \\infty} \\frac{x^3 + 2x^2}{x^4 - 3x^3} = 0$\n"
      ],
      "metadata": {
        "id": "8ckq-twpvbAO"
      },
      "id": "8ckq-twpvbAO"
    },
    {
      "cell_type": "code",
      "source": [
        "import sympy as sp\n",
        "\n",
        "# Define the variable and the function\n",
        "x = sp.symbols('x')\n",
        "f = (x**3 + 2*x**2) / (x**4 - 3*x**3)\n",
        "\n",
        "# Calculate the limit as x approaches infinity\n",
        "limit_value = sp.limit(f, x, sp.oo)\n",
        "limit_value\n"
      ],
      "metadata": {
        "id": "nuH-Lea3wIKw",
        "outputId": "d0b0659d-f3ee-490b-e9f9-601bde74a1fb",
        "colab": {
          "base_uri": "https://localhost:8080/",
          "height": 37
        }
      },
      "id": "nuH-Lea3wIKw",
      "execution_count": null,
      "outputs": [
        {
          "output_type": "execute_result",
          "data": {
            "text/plain": [
              "0"
            ],
            "text/latex": "$\\displaystyle 0$"
          },
          "metadata": {},
          "execution_count": 1
        }
      ]
    },
    {
      "cell_type": "markdown",
      "source": [
        "GeoGebra : https://www.geogebra.org/calculator/jwv227bk"
      ],
      "metadata": {
        "id": "b4_kPv_3x4vt"
      },
      "id": "b4_kPv_3x4vt"
    },
    {
      "cell_type": "markdown",
      "source": [
        "### Problem:\n",
        "\n",
        "Compute the limit:\n",
        "\n",
        "$\\lim_{x \\to 0} \\frac{\\sin(3x)}{2x + 1}$\n",
        "\n",
        "### Solution:\n",
        "\n",
        "To compute this limit, we directly substitute $x = 0$ into the expression:\n",
        "\n",
        "$\\frac{\\sin(3(0))}{2(0) + 1} = \\frac{\\sin(0)}{1} = 0$\n",
        "\n",
        "### Final Answer:\n",
        "\n",
        "$\\lim_{x \\to 0} \\frac{\\sin(3x)}{2x + 1} = 0$\n"
      ],
      "metadata": {
        "id": "WJCk51xCwe3U"
      },
      "id": "WJCk51xCwe3U"
    },
    {
      "cell_type": "code",
      "source": [
        "import sympy as sp\n",
        "\n",
        "# Define the variable and the function\n",
        "x = sp.symbols('x')\n",
        "f = sp.sin(3*x) / (2*x + 1)\n",
        "\n",
        "# Calculate the limit as x approaches 0\n",
        "limit_value = sp.limit(f, x, 0)\n",
        "limit_value\n"
      ],
      "metadata": {
        "id": "kKy4GZ2wwt4g",
        "outputId": "cca79d3f-4253-4cb7-89d1-4592fdbb4004",
        "colab": {
          "base_uri": "https://localhost:8080/",
          "height": 37
        }
      },
      "id": "kKy4GZ2wwt4g",
      "execution_count": null,
      "outputs": [
        {
          "output_type": "execute_result",
          "data": {
            "text/plain": [
              "0"
            ],
            "text/latex": "$\\displaystyle 0$"
          },
          "metadata": {},
          "execution_count": 2
        }
      ]
    },
    {
      "cell_type": "markdown",
      "source": [
        "GeoGebra : https://www.geogebra.org/calculator/zg4h2gx8"
      ],
      "metadata": {
        "id": "rYdtyUp9xoBe"
      },
      "id": "rYdtyUp9xoBe"
    },
    {
      "cell_type": "markdown",
      "source": [
        "### Problem:\n",
        "\n",
        "Find the asymptotes of the functions:\n",
        "\n",
        "1. $f(x) = \\frac{x^2 - 1}{x^2 + 1}$\n",
        "2. $g(x) = \\frac{\\sin(x)}{x^2 + 1}$\n",
        "\n",
        "### Solution:\n",
        "\n",
        "#### For $f(x) = \\frac{x^2 - 1}{x^2 + 1}$:\n",
        "\n",
        "To find the asymptotes of the function, we look at the limits as $x \\to \\infty$ and $x \\to -\\infty$.\n",
        "\n",
        "As $x \\to \\infty$ or $x \\to -\\infty$, the dominant terms are $x^2$ in both the numerator and the denominator. Thus, the function behaves like:\n",
        "\n",
        "\\[\n",
        "f(x) \\approx \\frac{x^2}{x^2} = 1\n",
        "\\]\n",
        "\n",
        "Therefore, the function has a **horizontal asymptote** at $y = 1$.\n",
        "\n",
        "#### For $g(x) = \\frac{\\sin(x)}{x^2 + 1}$:\n",
        "\n",
        "Since $\\sin(x)$ is bounded between $-1$ and $1$, and the denominator grows as $x^2 + 1$ as $x \\to \\infty$, the function approaches 0.\n",
        "\n",
        "\\[\n",
        "\\lim_{x \\to \\infty} g(x) = \\lim_{x \\to \\infty} \\frac{\\sin(x)}{x^2 + 1} = 0\n",
        "\\]\n",
        "\n",
        "Thus, the function has a **horizontal asymptote** at $y = 0$.\n",
        "\n",
        "### Final Answer:\n",
        "\n",
        "1. For $f(x) = \\frac{x^2 - 1}{x^2 + 1}$, the horizontal asymptote is $y = 1$.\n",
        "2. For $g(x) = \\frac{\\sin(x)}{x^2 + 1}$, the horizontal asymptote is $y = 0$.\n"
      ],
      "metadata": {
        "id": "jsBGeGW1w3_Q"
      },
      "id": "jsBGeGW1w3_Q"
    },
    {
      "cell_type": "code",
      "source": [
        "import sympy as sp\n",
        "\n",
        "# Define the variable and the functions\n",
        "x = sp.symbols('x')\n",
        "\n",
        "# Define the functions f(x) and g(x)\n",
        "f = (x**2 - 1) / (x**2 + 1)\n",
        "g = sp.sin(x) / (x**2 + 1)\n",
        "\n",
        "# Calculate the limits of both functions as x approaches infinity\n",
        "limit_f = sp.limit(f, x, sp.oo)\n",
        "limit_g = sp.limit(g, x, sp.oo)\n",
        "\n",
        "limit_f, limit_g\n"
      ],
      "metadata": {
        "id": "h8RPD7gCw_wn",
        "outputId": "90c1ef9c-3290-48f9-ae95-57e4a433e67f",
        "colab": {
          "base_uri": "https://localhost:8080/"
        }
      },
      "id": "h8RPD7gCw_wn",
      "execution_count": null,
      "outputs": [
        {
          "output_type": "execute_result",
          "data": {
            "text/plain": [
              "(1, 0)"
            ]
          },
          "metadata": {},
          "execution_count": 3
        }
      ]
    },
    {
      "cell_type": "markdown",
      "source": [
        "GeoGebra : https://www.geogebra.org/calculator/yc3sm9yh"
      ],
      "metadata": {
        "id": "G_PN3W07xXY9"
      },
      "id": "G_PN3W07xXY9"
    }
  ],
  "metadata": {
    "kernelspec": {
      "display_name": "Python 3 (ipykernel)",
      "language": "python",
      "name": "python3"
    },
    "language_info": {
      "codemirror_mode": {
        "name": "ipython",
        "version": 3
      },
      "file_extension": ".py",
      "mimetype": "text/x-python",
      "name": "python",
      "nbconvert_exporter": "python",
      "pygments_lexer": "ipython3",
      "version": "3.12.7"
    },
    "colab": {
      "provenance": []
    }
  },
  "nbformat": 4,
  "nbformat_minor": 5
}