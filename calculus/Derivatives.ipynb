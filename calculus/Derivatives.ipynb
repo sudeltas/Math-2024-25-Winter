import sympy as sp

# Define the variable
x = sp.symbols('x')

# Define the function (e.g., f(x) = x^2 + 3x + 2)
f_x = x**2 + 3*x + 2

# Compute the first derivative (f'(x))
first_derivative = sp.diff(f_x, x)

# Compute the second derivative (f''(x))
second_derivative = sp.diff(f_x, x, 2)

# Print the results
print(f"First derivative of f(x): {first_derivative}")
print(f"Second derivative of f(x): {second_derivative}")

