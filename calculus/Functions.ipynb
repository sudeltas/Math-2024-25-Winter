import sympy as sp

# Define the variable
x = sp.symbols('x')

# Define the function
f = sp.sin(x) / x

# Calculate the limit as x approaches 0
limit_value = sp.limit(f, x, 0)

# Output the result
print("Limit:", limit_value)

